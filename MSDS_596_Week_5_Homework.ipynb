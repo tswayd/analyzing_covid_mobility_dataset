{
  "nbformat": 4,
  "nbformat_minor": 0,
  "metadata": {
    "colab": {
      "name": "MSDS 596 - Week 5 - Homework",
      "provenance": [],
      "toc_visible": true,
      "include_colab_link": true
    },
    "kernelspec": {
      "name": "python3",
      "display_name": "Python 3"
    }
  },
  "cells": [
    {
      "cell_type": "markdown",
      "metadata": {
        "id": "view-in-github",
        "colab_type": "text"
      },
      "source": [
        "<a href=\"https://colab.research.google.com/github/tswayd/analyzing_covid_mobility_dataset/blob/master/MSDS_596_Week_5_Homework.ipynb\" target=\"_parent\"><img src=\"https://colab.research.google.com/assets/colab-badge.svg\" alt=\"Open In Colab\"/></a>"
      ]
    },
    {
      "cell_type": "markdown",
      "metadata": {
        "id": "sbV99ABnXX5N",
        "colab_type": "text"
      },
      "source": [
        "# Homework 5 (20 points)\n",
        "## Due: Monday, Sept 28 @ 6:30 PM \n",
        "\n",
        "**The very first thing you should do is save your own copy of this Homework by clicking on File -> \"Save a copy in Drive\"**\n",
        "\n",
        "This homework is divided into 3 sections.  Read the data description below carefully to understand the data, then work on each section.\n",
        "\n",
        "When you complete this assignment, **please submit 3 files via Canvas before the deadline.**\n",
        "\n",
        "\n",
        "1.   Your Jupyter Notebook code as a .py file (File -> \"Download .py\")\n",
        "2.   A PDF of all of your code/output in this Jupyter Notebook (File -> Print -> Save as PDF). **Make sure ALL of your visualizations are visible in the PDF**\n",
        "3.   Your final visualization image as a PNG file\n",
        "\n",
        "Please use the naming convention:  \n",
        "\n",
        "**firstname_lastname_homework5.py**\n",
        "\n",
        "**firstname_lastname_homework5.pdf**\n",
        "\n",
        "**firstname_lastname_homework5.png**\n"
      ]
    },
    {
      "cell_type": "markdown",
      "metadata": {
        "id": "ZRklYT5_Ost1",
        "colab_type": "text"
      },
      "source": [
        "## Section 1: Design and create your own visualization\n",
        "**10 points total**\n",
        "\n",
        "**Point Breakdown**\n",
        "\n",
        "*   Code (exploring + cleaning the data): 4 points\n",
        "*   Visual (chart choice, aesthetics): 3 points\n",
        "*   Communication (message clarity): 3 points\n",
        "\n",
        "\n",
        "\n",
        "Using what you have learned so far in this course, **discover an interesting insight** from one of the data sets that we have worked with so far in this course (your choice) and **share that insight in the form of a compelling data visualization**.  If you need inspiration, feel free to draw ideas from \"Storytelling with Data\" or if you don't have the book, from the accompanying blog: http://www.storytellingwithdata.com/blog. Also check out some of the sources listed in Section 3 below.\n",
        "\n",
        "Data sets you can choose from include:\n",
        "-  Cereal\n",
        "-  Olympics\n",
        "-  Books\n",
        "-  Movies\n",
        "-  Netflix\n",
        "-  Wildlife Strikes\n",
        "\n",
        "The deliverable for this section will be a final image file of your visualization.  **You can/should do post-processing of your code-generated visualization with an image editor or Google Slides.**  This will allow you to add supplementary text, titles, annotations etc.  To get your code-generated image file for this step, you can do `<yourchartvariablename>.savefig('hw5section1.png')`"
      ]
    },
    {
      "cell_type": "code",
      "metadata": {
        "id": "dLHv2NSfScaj",
        "colab_type": "code",
        "colab": {}
      },
      "source": [
        "# Your code here"
      ],
      "execution_count": null,
      "outputs": []
    },
    {
      "cell_type": "markdown",
      "metadata": {
        "id": "VIuZCeaESeib",
        "colab_type": "text"
      },
      "source": [
        "## Section 2:  Critiquing a bad visualization\n",
        "**5 points**\n",
        "\n",
        "\n",
        "Find an example of a bad data visualization on the internet (there are plenty). \n",
        "\n",
        "\n",
        "*   Embed the image in this CoLab notebook in a text block\n",
        "*   In a separate text block, outline what makes it bad and describe how it could be improved (4-6 sentences).  \n",
        "\n"
      ]
    },
    {
      "cell_type": "markdown",
      "metadata": {
        "id": "p_hLe2pnU3dw",
        "colab_type": "text"
      },
      "source": [
        "Your bad visualization here"
      ]
    },
    {
      "cell_type": "markdown",
      "metadata": {
        "id": "NzXdrXgQU8vx",
        "colab_type": "text"
      },
      "source": [
        "Your critique and suggestions for improvement here"
      ]
    },
    {
      "cell_type": "markdown",
      "metadata": {
        "id": "L7Qg0l8JVCsH",
        "colab_type": "text"
      },
      "source": [
        "## Section 3: Analyzing a good visualization\n",
        "**5 points**\n",
        "\n",
        "Find an example of a good data visualization.  \n",
        "\n",
        "\n",
        "*   Embed the image in this CoLab notebook in a text block\n",
        "*   In a separate text block, analyze what makes this a good visualization.  Think about the design, use of preattentive attributes, visual hierarchy etc. Summarize your thoughts in 4-6 sentences.\n",
        "\n",
        "\n",
        "\n",
        "\n",
        "Here are some potential sources:\n",
        "\n",
        "\n",
        "*   https://flowingdata.com/tag/new-york-times/\n",
        "*   https://fivethirtyeight.com/\n",
        "*   https://informationisbeautiful.net/\n",
        "*   http://reddit.com/r/dataisbeautiful\n",
        "\n",
        "\n",
        "\n"
      ]
    },
    {
      "cell_type": "markdown",
      "metadata": {
        "id": "pKBZeLxzWums",
        "colab_type": "text"
      },
      "source": [
        "Your good visualization here"
      ]
    },
    {
      "cell_type": "markdown",
      "metadata": {
        "id": "ISyxLwUVWuT1",
        "colab_type": "text"
      },
      "source": [
        "Your analysis here"
      ]
    }
  ]
}